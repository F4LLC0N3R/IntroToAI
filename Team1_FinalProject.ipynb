{
  "nbformat": 4,
  "nbformat_minor": 0,
  "metadata": {
    "colab": {
      "name": "Team1_FinalProject.ipynb",
      "provenance": [],
      "authorship_tag": "ABX9TyONl3BA9Nuy1ybcjEomciM3",
      "include_colab_link": true
    },
    "kernelspec": {
      "name": "python3",
      "display_name": "Python 3"
    },
    "language_info": {
      "name": "python"
    }
  },
  "cells": [
    {
      "cell_type": "markdown",
      "metadata": {
        "id": "view-in-github",
        "colab_type": "text"
      },
      "source": [
        "<a href=\"https://colab.research.google.com/github/F4LLC0N3R/IntroToAI/blob/main/Team1_FinalProject.ipynb\" target=\"_parent\"><img src=\"https://colab.research.google.com/assets/colab-badge.svg\" alt=\"Open In Colab\"/></a>"
      ]
    },
    {
      "cell_type": "markdown",
      "metadata": {
        "id": "p_eEsCRaFEv5"
      },
      "source": [
        "# Introduction to AI: Machine Learning for Business - Final project\n",
        "\n",
        "## Context\n",
        "\n",
        "Congratulations, you’ve just been hired as an AI expert at a company.\n",
        "\n",
        "For this final project you are required to choose and define a business problem of which you will apply machine learning to. \n",
        "Your final submission should include the following: \n",
        "\n",
        "- Problem definition\n",
        "- Data Collection\n",
        "- Data Processing\n",
        "- Model Selection\n",
        "- Results Visualization\n",
        "- Results Interpretation\n",
        "\n",
        "\n",
        "\n",
        "## What should you do ?\n",
        "\n",
        "Make a notebook telling interesting things about the data you have fetched, tell a story (or many) using everything you learned. Build predictive models and compare them.  \n",
        "You have to submit at least a notebook and any resources you used (like images or any other files).\n",
        "\n",
        "## Assessment \n",
        "Here are the criteria we will use to assess your work:\n",
        "\n",
        "### Is it meaningful?\n",
        "As a machine learning expert you have to produce something meaningful enough, just plotting random data is not going to work. Like a story your analysis should have some kind of logical progression.\n",
        "\n",
        "### How well did you use the technical knowledge you’ve been taught?\n",
        "Obviously, the way you use everything you learned during the lectures is going to be assessed.\n",
        "\n",
        "### Cleanliness, aesthetics and clearness of your notebook\n",
        "Is your analysis full of unused code? Is it difficult to read? Have you tried to make it easy and enjoyable to read?\n",
        "\n",
        "### Innovation\n",
        "Creativity, surprising things or any good initiatives you take are potential bonus points.\n",
        "\n",
        "\n",
        "### Careful:\n",
        "\tThis work is individual, plagiarism is going to be measured by both machines and humans. Too many similarities between your work and any online or python buddy work will result in grade penalties.\n",
        "\n",
        "\n",
        "Good Luck!\n",
        "\n"
      ]
    },
    {
      "cell_type": "code",
      "metadata": {
        "id": "_-5CyStQFJ8z"
      },
      "source": [
        ""
      ],
      "execution_count": null,
      "outputs": []
    }
  ]
}